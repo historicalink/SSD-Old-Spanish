{
 "cells": [
  {
   "cell_type": "code",
   "execution_count": 1,
   "metadata": {},
   "outputs": [],
   "source": [
    "import pandas as pd\n",
    "from sklearn.model_selection import train_test_split"
   ]
  },
  {
   "cell_type": "code",
   "execution_count": 2,
   "metadata": {},
   "outputs": [],
   "source": [
    "TRAINING_SIZE = 0.9\n",
    "VALIDATION_SIZE = 0.1\n",
    "TESTING_SIZE = 0.0 # no required, can be tested with a small different dataset (not in corpus)\n",
    "\n",
    "assert VALIDATION_SIZE+TESTING_SIZE+TRAINING_SIZE == 1, \"Check split sizes\""
   ]
  },
  {
   "cell_type": "code",
   "execution_count": 3,
   "metadata": {},
   "outputs": [
    {
     "name": "stderr",
     "output_type": "stream",
     "text": [
      "C:\\Users\\santi\\AppData\\Local\\Temp\\ipykernel_38700\\3542332695.py:1: DtypeWarning: Columns (1,2,5) have mixed types. Specify dtype option on import or set low_memory=False.\n",
      "  df = pd.read_csv(\"../data/old-spanish-corpus-chunked.tsv\", sep=\"\\t\")\n"
     ]
    }
   ],
   "source": [
    "df = pd.read_csv(\"../data/old-spanish-corpus-chunked.tsv\", sep=\"\\t\")\n",
    "df_shuffled = df.sample(frac=1, random_state=42)\n",
    "\n",
    "total_size = len(df_shuffled)\n",
    "training_size = int(total_size * TRAINING_SIZE)\n",
    "validation_size = int(total_size * VALIDATION_SIZE)\n",
    "#testing_size = int(total_size * TESTING_SIZE)"
   ]
  },
  {
   "cell_type": "code",
   "execution_count": 5,
   "metadata": {},
   "outputs": [],
   "source": [
    "sources = df_shuffled['source'] # stratify by source\n",
    "\n",
    "train_sources, valid_sources = train_test_split(sources, train_size=training_size, stratify=sources)"
   ]
  },
  {
   "cell_type": "code",
   "execution_count": 6,
   "metadata": {},
   "outputs": [],
   "source": [
    "train_df = df_shuffled.loc[train_sources.index]\n",
    "valid_df = df_shuffled.loc[valid_sources.index]\n",
    "#test_df = df_shuffled.loc[test_sources.index]"
   ]
  },
  {
   "cell_type": "code",
   "execution_count": 7,
   "metadata": {},
   "outputs": [
    {
     "name": "stdout",
     "output_type": "stream",
     "text": [
      "Sizes:\n",
      "\ttrain: 1547097 (90.00%)\n",
      "\tvalid: 171900 (10.00%)\n"
     ]
    }
   ],
   "source": [
    "print(\"Sizes:\")\n",
    "print(f\"\\ttrain: {len(train_df)} ({len(train_df)/len(df):.2%})\")\n",
    "print(f\"\\tvalid: {len(valid_df)} ({len(valid_df)/len(df):.2%})\")\n",
    "#print(f\"\\ttest: {len(test_df)} ({len(test_df)/len(df):.2%})\")"
   ]
  },
  {
   "cell_type": "code",
   "execution_count": 8,
   "metadata": {},
   "outputs": [],
   "source": [
    "train_df.to_csv(\"../data/splits/old-spanish-corpus-train.tsv\", sep=\"\\t\", index=False)\n",
    "valid_df.to_csv(\"../data/splits/old-spanish-corpus-validation.tsv\", sep=\"\\t\", index=False)\n",
    "#test_df.to_csv(\"../data/splits/old-spanish-corpus-test.tsv\", sep=\"\\t\", index=False)"
   ]
  }
 ],
 "metadata": {
  "kernelspec": {
   "display_name": "Python 3",
   "language": "python",
   "name": "python3"
  },
  "language_info": {
   "codemirror_mode": {
    "name": "ipython",
    "version": 3
   },
   "file_extension": ".py",
   "mimetype": "text/x-python",
   "name": "python",
   "nbconvert_exporter": "python",
   "pygments_lexer": "ipython3",
   "version": "3.12.1"
  }
 },
 "nbformat": 4,
 "nbformat_minor": 2
}
